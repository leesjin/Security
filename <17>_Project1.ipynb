{
  "cells": [
    {
      "cell_type": "markdown",
      "metadata": {
        "id": "view-in-github",
        "colab_type": "text"
      },
      "source": [
        "<a href=\"https://colab.research.google.com/github/leesjin/Security/blob/main/%3C17%3E_Project1.ipynb\" target=\"_parent\"><img src=\"https://colab.research.google.com/assets/colab-badge.svg\" alt=\"Open In Colab\"/></a>"
      ]
    },
    {
      "cell_type": "markdown",
      "metadata": {
        "id": "3gsI-o40lmaV"
      },
      "source": [
        "## 정보보호와 시스템보안\n",
        "### Team Project #1\n",
        "\n",
        "### 팀 정보\n",
        "- 팀 이름 : \n",
        "- 팀 번호 : 17\n",
        "- 팀원 목록 : 김경환(20172612),김원범(20163099),이성진(20181658)\n",
        "\n",
        "---"
      ]
    },
    {
      "cell_type": "markdown",
      "metadata": {
        "id": "WIE5yEZzHDTo"
      },
      "source": [
        "### 프로젝트 TODO\n",
        "1. Data Preprocessing\n",
        "2. Data Scaling\n",
        "3. IP Voting\n",
        "\n",
        "### 프로젝트 데이터 셋\n",
        "- 국민대학교 네트워크 플로우 데이터셋(5시간)   \n",
        "\n",
        "### 참고자료\n",
        "- 네트워크 플로우([Network Flow](https://checkmk.com/guides/network-flow-monitoring)):   \n",
        "한번의 세션에서 출발지(Source IP)와 도착지(Destination IP) 사이에 오가는 패킷에 대한 통계적 데이터\n",
        "### 주의사항\n",
        "- 기존에 있는 파일과 폴더의 구조를 변경할 수 없음\n",
        "\n",
        "### 제출\n",
        "- `<팀 번호>_Project1.ipynb`파일을 팀장이 제출   \n",
        "팀 번호 : 구글 스프레드 시트 행 인덱스"
      ]
    },
    {
      "cell_type": "code",
      "execution_count": null,
      "metadata": {
        "id": "f70kM6B5HE2G",
        "colab": {
          "base_uri": "https://localhost:8080/"
        },
        "outputId": "e1879ace-d486-4880-bcad-04313a117a52"
      },
      "outputs": [
        {
          "output_type": "stream",
          "name": "stdout",
          "text": [
            "Drive already mounted at /content/drive; to attempt to forcibly remount, call drive.mount(\"/content/drive\", force_remount=True).\n"
          ]
        }
      ],
      "source": [
        "from google.colab import drive\n",
        "\n",
        "drive_path = '/content/drive'\n",
        "drive.mount(drive_path)"
      ]
    },
    {
      "cell_type": "code",
      "execution_count": null,
      "metadata": {
        "id": "fAEQ51OHHcAD",
        "colab": {
          "base_uri": "https://localhost:8080/"
        },
        "outputId": "9bf56180-8f67-4fa6-e278-6b77fc2c7c84"
      },
      "outputs": [
        {
          "output_type": "stream",
          "name": "stdout",
          "text": [
            "\n",
            "7-Zip [64] 16.02 : Copyright (c) 1999-2016 Igor Pavlov : 2016-05-21\n",
            "p7zip Version 16.02 (locale=en_US.UTF-8,Utf16=on,HugeFiles=on,64 bits,2 CPUs Intel(R) Xeon(R) CPU @ 2.20GHz (406F0),ASM,AES-NI)\n",
            "\n",
            "Scanning the drive for archives:\n",
            "  0M Scan /content/drive/MyDrive/\b\b\b\b\b\b\b\b\b\b\b\b\b\b\b\b\b\b\b\b\b\b\b\b\b\b\b\b\b\b\b\b\b                                 \b\b\b\b\b\b\b\b\b\b\b\b\b\b\b\b\b\b\b\b\b\b\b\b\b\b\b\b\b\b\b\b\b1 file, 178076816 bytes (170 MiB)\n",
            "\n",
            "Extracting archive: /content/drive/MyDrive/2022_security_project1.zip\n",
            "--\n",
            "Path = /content/drive/MyDrive/2022_security_project1.zip\n",
            "Type = zip\n",
            "Physical Size = 178076816\n",
            "\n",
            "  0%\b\b\b\b    \b\b\b\b\n",
            "Would you like to replace the existing file:\n",
            "  Path:     ./Security Project1/BCE_model.py\n",
            "  Size:     2858 bytes (3 KiB)\n",
            "  Modified: 2022-11-02 01:57:33\n",
            "with the file from archive:\n",
            "  Path:     Security Project1/BCE_model.py\n",
            "  Size:     2858 bytes (3 KiB)\n",
            "  Modified: 2022-11-02 01:57:33\n",
            "? (Y)es / (N)o / (A)lways / (S)kip all / A(u)to rename all / (Q)uit? S\n",
            "\n",
            "  0% 1\b\b\b\b\b\b      \b\b\b\b\b\bEverything is Ok\n",
            "\n",
            "Folders: 4\n",
            "Files: 0\n",
            "Size:       0\n",
            "Compressed: 178076816\n"
          ]
        }
      ],
      "source": [
        "!7z x /content/drive/MyDrive/2022_security_project1.zip"
      ]
    },
    {
      "cell_type": "code",
      "source": [
        "%cd \"./Security Project1\""
      ],
      "metadata": {
        "colab": {
          "base_uri": "https://localhost:8080/"
        },
        "id": "cPq6fU9dFsQq",
        "outputId": "35d9020f-ca77-44be-fcff-ccbc5c2e2e75"
      },
      "execution_count": null,
      "outputs": [
        {
          "output_type": "stream",
          "name": "stdout",
          "text": [
            "/content/Security Project1\n"
          ]
        }
      ]
    },
    {
      "cell_type": "code",
      "execution_count": null,
      "metadata": {
        "id": "rY5Adez8HDTz"
      },
      "outputs": [],
      "source": [
        "from Utils import open_pickle\n",
        "import pandas as pd\n",
        "import numpy as np"
      ]
    },
    {
      "cell_type": "markdown",
      "metadata": {
        "id": "EyDy8yAtHDT2"
      },
      "source": [
        "### train, valid 데이터 셋 불러오기\n",
        "- 가상대학을 통해 다운받은 플로우 데이터를 불러온다."
      ]
    },
    {
      "cell_type": "code",
      "execution_count": null,
      "metadata": {
        "id": "KfaBhPp_HDT3"
      },
      "outputs": [],
      "source": [
        "train_path = r\"./train.csv\"\n",
        "valid_path = r\"./valid.csv\"\n",
        "\n",
        "train_df = pd.read_csv(train_path)\n",
        "valid_df = pd.read_csv(valid_path)"
      ]
    },
    {
      "cell_type": "code",
      "execution_count": null,
      "metadata": {
        "id": "NvNfhIhwHDT3",
        "colab": {
          "base_uri": "https://localhost:8080/"
        },
        "outputId": "a5f74300-55f4-484e-d982-5024a995d588"
      },
      "outputs": [
        {
          "output_type": "stream",
          "name": "stdout",
          "text": [
            "977270 325560\n"
          ]
        }
      ],
      "source": [
        "# 학습, 검증 플로우 데이터 개수 확인\n",
        "print(len(train_df), len(valid_df))"
      ]
    },
    {
      "cell_type": "code",
      "execution_count": null,
      "metadata": {
        "id": "s_3M-0u1HDT4",
        "colab": {
          "base_uri": "https://localhost:8080/"
        },
        "outputId": "9b7b3885-6620-4384-a64c-82405828e636"
      },
      "outputs": [
        {
          "output_type": "execute_result",
          "data": {
            "text/plain": [
              "Index(['Src IP', 'Src Port', 'Dst IP', 'Dst Port', 'Protocol', 'Flags',\n",
              "       'Timestamp', 'Flow Duration', 'Total Fwd Packet', 'Total Bwd packets',\n",
              "       'Total Length of Fwd Packet', 'Total Length of Bwd Packet',\n",
              "       'Fwd Packet Length Max', 'Fwd Packet Length Min',\n",
              "       'Fwd Packet Length Std', 'Bwd Packet Length Max',\n",
              "       'Bwd Packet Length Min', 'Bwd Packet Length Std', 'Flow IAT Mean',\n",
              "       'Flow IAT Std', 'Flow IAT Max', 'Flow IAT Min', 'Fwd IAT Total',\n",
              "       'Fwd IAT Mean', 'Fwd IAT Std', 'Fwd IAT Max', 'Fwd IAT Min',\n",
              "       'Bwd IAT Total', 'Bwd IAT Mean', 'Bwd IAT Std', 'Bwd IAT Max',\n",
              "       'Bwd IAT Min', 'Fwd Header Length', 'Bwd Header Length',\n",
              "       'Packet Length Min', 'Packet Length Max', 'Packet Length Std',\n",
              "       'Packet Length Variance', 'Average Packet Size', 'Fwd Segment Size Avg',\n",
              "       'Bwd Segment Size Avg', 'FWD Init Win Bytes', 'Bwd Init Win Bytes',\n",
              "       'Fwd Act Data Pkts', 'Fwd Seg Size Min', 'Active Mean', 'Active Std',\n",
              "       'Active Max', 'Active Min', 'Idle Mean', 'Idle Std', 'Idle Max',\n",
              "       'Idle Min', 'Label'],\n",
              "      dtype='object')"
            ]
          },
          "metadata": {},
          "execution_count": 7
        }
      ],
      "source": [
        "# 주어진 플로우 컬럼 종류 확인\n",
        "train_df.keys()"
      ]
    },
    {
      "cell_type": "code",
      "execution_count": null,
      "metadata": {
        "id": "CGgOGVVmHDT5",
        "colab": {
          "base_uri": "https://localhost:8080/",
          "height": 297
        },
        "outputId": "b731928c-7c0c-4b06-b698-6c3ea1f10bdb"
      },
      "outputs": [
        {
          "output_type": "execute_result",
          "data": {
            "text/plain": [
              "           Src IP  Src Port      Dst IP  Dst Port Protocol     Flags  \\\n",
              "0  110.15.155.169     13850  97.2.159.1        53      TCP  ......S.   \n",
              "1  110.15.155.169     43842  97.2.159.1        53      TCP  ......S.   \n",
              "2  110.15.155.171     25918  97.2.159.1        53      TCP  ......S.   \n",
              "3   238.61.97.110      4445  97.2.159.1        53      TCP  ...A...F   \n",
              "4  110.15.155.171     28467  97.2.159.1        53      TCP  ......S.   \n",
              "\n",
              "  Timestamp  Flow Duration  Total Fwd Packet  Total Bwd packets  ...  \\\n",
              "0  03:52:00        3119967                 3                  0  ...   \n",
              "1  03:37:20        2991830                 3                  0  ...   \n",
              "2  03:10:28        3004658                 3                  0  ...   \n",
              "3  00:42:24        4402645                 2                  1  ...   \n",
              "4  02:45:28        3001784                 3                  0  ...   \n",
              "\n",
              "   Fwd Seg Size Min  Active Mean  Active Std  Active Max  Active Min  \\\n",
              "0                40          0.0         0.0         0.0         0.0   \n",
              "1                40          0.0         0.0         0.0         0.0   \n",
              "2                40          0.0         0.0         0.0         0.0   \n",
              "3                20          0.0         0.0         0.0         0.0   \n",
              "4                40          0.0         0.0         0.0         0.0   \n",
              "\n",
              "   Idle Mean  Idle Std  Idle Max  Idle Min      Label  \n",
              "0        0.0       0.0       0.0       0.0  Benign_IP  \n",
              "1        0.0       0.0       0.0       0.0  Benign_IP  \n",
              "2        0.0       0.0       0.0       0.0  Benign_IP  \n",
              "3        0.0       0.0       0.0       0.0  Benign_IP  \n",
              "4        0.0       0.0       0.0       0.0  Benign_IP  \n",
              "\n",
              "[5 rows x 54 columns]"
            ],
            "text/html": [
              "\n",
              "  <div id=\"df-df903b99-be08-4e7b-913e-0e7d97f0f1b7\">\n",
              "    <div class=\"colab-df-container\">\n",
              "      <div>\n",
              "<style scoped>\n",
              "    .dataframe tbody tr th:only-of-type {\n",
              "        vertical-align: middle;\n",
              "    }\n",
              "\n",
              "    .dataframe tbody tr th {\n",
              "        vertical-align: top;\n",
              "    }\n",
              "\n",
              "    .dataframe thead th {\n",
              "        text-align: right;\n",
              "    }\n",
              "</style>\n",
              "<table border=\"1\" class=\"dataframe\">\n",
              "  <thead>\n",
              "    <tr style=\"text-align: right;\">\n",
              "      <th></th>\n",
              "      <th>Src IP</th>\n",
              "      <th>Src Port</th>\n",
              "      <th>Dst IP</th>\n",
              "      <th>Dst Port</th>\n",
              "      <th>Protocol</th>\n",
              "      <th>Flags</th>\n",
              "      <th>Timestamp</th>\n",
              "      <th>Flow Duration</th>\n",
              "      <th>Total Fwd Packet</th>\n",
              "      <th>Total Bwd packets</th>\n",
              "      <th>...</th>\n",
              "      <th>Fwd Seg Size Min</th>\n",
              "      <th>Active Mean</th>\n",
              "      <th>Active Std</th>\n",
              "      <th>Active Max</th>\n",
              "      <th>Active Min</th>\n",
              "      <th>Idle Mean</th>\n",
              "      <th>Idle Std</th>\n",
              "      <th>Idle Max</th>\n",
              "      <th>Idle Min</th>\n",
              "      <th>Label</th>\n",
              "    </tr>\n",
              "  </thead>\n",
              "  <tbody>\n",
              "    <tr>\n",
              "      <th>0</th>\n",
              "      <td>110.15.155.169</td>\n",
              "      <td>13850</td>\n",
              "      <td>97.2.159.1</td>\n",
              "      <td>53</td>\n",
              "      <td>TCP</td>\n",
              "      <td>......S.</td>\n",
              "      <td>03:52:00</td>\n",
              "      <td>3119967</td>\n",
              "      <td>3</td>\n",
              "      <td>0</td>\n",
              "      <td>...</td>\n",
              "      <td>40</td>\n",
              "      <td>0.0</td>\n",
              "      <td>0.0</td>\n",
              "      <td>0.0</td>\n",
              "      <td>0.0</td>\n",
              "      <td>0.0</td>\n",
              "      <td>0.0</td>\n",
              "      <td>0.0</td>\n",
              "      <td>0.0</td>\n",
              "      <td>Benign_IP</td>\n",
              "    </tr>\n",
              "    <tr>\n",
              "      <th>1</th>\n",
              "      <td>110.15.155.169</td>\n",
              "      <td>43842</td>\n",
              "      <td>97.2.159.1</td>\n",
              "      <td>53</td>\n",
              "      <td>TCP</td>\n",
              "      <td>......S.</td>\n",
              "      <td>03:37:20</td>\n",
              "      <td>2991830</td>\n",
              "      <td>3</td>\n",
              "      <td>0</td>\n",
              "      <td>...</td>\n",
              "      <td>40</td>\n",
              "      <td>0.0</td>\n",
              "      <td>0.0</td>\n",
              "      <td>0.0</td>\n",
              "      <td>0.0</td>\n",
              "      <td>0.0</td>\n",
              "      <td>0.0</td>\n",
              "      <td>0.0</td>\n",
              "      <td>0.0</td>\n",
              "      <td>Benign_IP</td>\n",
              "    </tr>\n",
              "    <tr>\n",
              "      <th>2</th>\n",
              "      <td>110.15.155.171</td>\n",
              "      <td>25918</td>\n",
              "      <td>97.2.159.1</td>\n",
              "      <td>53</td>\n",
              "      <td>TCP</td>\n",
              "      <td>......S.</td>\n",
              "      <td>03:10:28</td>\n",
              "      <td>3004658</td>\n",
              "      <td>3</td>\n",
              "      <td>0</td>\n",
              "      <td>...</td>\n",
              "      <td>40</td>\n",
              "      <td>0.0</td>\n",
              "      <td>0.0</td>\n",
              "      <td>0.0</td>\n",
              "      <td>0.0</td>\n",
              "      <td>0.0</td>\n",
              "      <td>0.0</td>\n",
              "      <td>0.0</td>\n",
              "      <td>0.0</td>\n",
              "      <td>Benign_IP</td>\n",
              "    </tr>\n",
              "    <tr>\n",
              "      <th>3</th>\n",
              "      <td>238.61.97.110</td>\n",
              "      <td>4445</td>\n",
              "      <td>97.2.159.1</td>\n",
              "      <td>53</td>\n",
              "      <td>TCP</td>\n",
              "      <td>...A...F</td>\n",
              "      <td>00:42:24</td>\n",
              "      <td>4402645</td>\n",
              "      <td>2</td>\n",
              "      <td>1</td>\n",
              "      <td>...</td>\n",
              "      <td>20</td>\n",
              "      <td>0.0</td>\n",
              "      <td>0.0</td>\n",
              "      <td>0.0</td>\n",
              "      <td>0.0</td>\n",
              "      <td>0.0</td>\n",
              "      <td>0.0</td>\n",
              "      <td>0.0</td>\n",
              "      <td>0.0</td>\n",
              "      <td>Benign_IP</td>\n",
              "    </tr>\n",
              "    <tr>\n",
              "      <th>4</th>\n",
              "      <td>110.15.155.171</td>\n",
              "      <td>28467</td>\n",
              "      <td>97.2.159.1</td>\n",
              "      <td>53</td>\n",
              "      <td>TCP</td>\n",
              "      <td>......S.</td>\n",
              "      <td>02:45:28</td>\n",
              "      <td>3001784</td>\n",
              "      <td>3</td>\n",
              "      <td>0</td>\n",
              "      <td>...</td>\n",
              "      <td>40</td>\n",
              "      <td>0.0</td>\n",
              "      <td>0.0</td>\n",
              "      <td>0.0</td>\n",
              "      <td>0.0</td>\n",
              "      <td>0.0</td>\n",
              "      <td>0.0</td>\n",
              "      <td>0.0</td>\n",
              "      <td>0.0</td>\n",
              "      <td>Benign_IP</td>\n",
              "    </tr>\n",
              "  </tbody>\n",
              "</table>\n",
              "<p>5 rows × 54 columns</p>\n",
              "</div>\n",
              "      <button class=\"colab-df-convert\" onclick=\"convertToInteractive('df-df903b99-be08-4e7b-913e-0e7d97f0f1b7')\"\n",
              "              title=\"Convert this dataframe to an interactive table.\"\n",
              "              style=\"display:none;\">\n",
              "        \n",
              "  <svg xmlns=\"http://www.w3.org/2000/svg\" height=\"24px\"viewBox=\"0 0 24 24\"\n",
              "       width=\"24px\">\n",
              "    <path d=\"M0 0h24v24H0V0z\" fill=\"none\"/>\n",
              "    <path d=\"M18.56 5.44l.94 2.06.94-2.06 2.06-.94-2.06-.94-.94-2.06-.94 2.06-2.06.94zm-11 1L8.5 8.5l.94-2.06 2.06-.94-2.06-.94L8.5 2.5l-.94 2.06-2.06.94zm10 10l.94 2.06.94-2.06 2.06-.94-2.06-.94-.94-2.06-.94 2.06-2.06.94z\"/><path d=\"M17.41 7.96l-1.37-1.37c-.4-.4-.92-.59-1.43-.59-.52 0-1.04.2-1.43.59L10.3 9.45l-7.72 7.72c-.78.78-.78 2.05 0 2.83L4 21.41c.39.39.9.59 1.41.59.51 0 1.02-.2 1.41-.59l7.78-7.78 2.81-2.81c.8-.78.8-2.07 0-2.86zM5.41 20L4 18.59l7.72-7.72 1.47 1.35L5.41 20z\"/>\n",
              "  </svg>\n",
              "      </button>\n",
              "      \n",
              "  <style>\n",
              "    .colab-df-container {\n",
              "      display:flex;\n",
              "      flex-wrap:wrap;\n",
              "      gap: 12px;\n",
              "    }\n",
              "\n",
              "    .colab-df-convert {\n",
              "      background-color: #E8F0FE;\n",
              "      border: none;\n",
              "      border-radius: 50%;\n",
              "      cursor: pointer;\n",
              "      display: none;\n",
              "      fill: #1967D2;\n",
              "      height: 32px;\n",
              "      padding: 0 0 0 0;\n",
              "      width: 32px;\n",
              "    }\n",
              "\n",
              "    .colab-df-convert:hover {\n",
              "      background-color: #E2EBFA;\n",
              "      box-shadow: 0px 1px 2px rgba(60, 64, 67, 0.3), 0px 1px 3px 1px rgba(60, 64, 67, 0.15);\n",
              "      fill: #174EA6;\n",
              "    }\n",
              "\n",
              "    [theme=dark] .colab-df-convert {\n",
              "      background-color: #3B4455;\n",
              "      fill: #D2E3FC;\n",
              "    }\n",
              "\n",
              "    [theme=dark] .colab-df-convert:hover {\n",
              "      background-color: #434B5C;\n",
              "      box-shadow: 0px 1px 3px 1px rgba(0, 0, 0, 0.15);\n",
              "      filter: drop-shadow(0px 1px 2px rgba(0, 0, 0, 0.3));\n",
              "      fill: #FFFFFF;\n",
              "    }\n",
              "  </style>\n",
              "\n",
              "      <script>\n",
              "        const buttonEl =\n",
              "          document.querySelector('#df-df903b99-be08-4e7b-913e-0e7d97f0f1b7 button.colab-df-convert');\n",
              "        buttonEl.style.display =\n",
              "          google.colab.kernel.accessAllowed ? 'block' : 'none';\n",
              "\n",
              "        async function convertToInteractive(key) {\n",
              "          const element = document.querySelector('#df-df903b99-be08-4e7b-913e-0e7d97f0f1b7');\n",
              "          const dataTable =\n",
              "            await google.colab.kernel.invokeFunction('convertToInteractive',\n",
              "                                                     [key], {});\n",
              "          if (!dataTable) return;\n",
              "\n",
              "          const docLinkHtml = 'Like what you see? Visit the ' +\n",
              "            '<a target=\"_blank\" href=https://colab.research.google.com/notebooks/data_table.ipynb>data table notebook</a>'\n",
              "            + ' to learn more about interactive tables.';\n",
              "          element.innerHTML = '';\n",
              "          dataTable['output_type'] = 'display_data';\n",
              "          await google.colab.output.renderOutput(dataTable, element);\n",
              "          const docLink = document.createElement('div');\n",
              "          docLink.innerHTML = docLinkHtml;\n",
              "          element.appendChild(docLink);\n",
              "        }\n",
              "      </script>\n",
              "    </div>\n",
              "  </div>\n",
              "  "
            ]
          },
          "metadata": {},
          "execution_count": 8
        }
      ],
      "source": [
        "# 데이터 확인\n",
        "train_df.head(5)\n"
      ]
    },
    {
      "cell_type": "markdown",
      "metadata": {
        "id": "QM8QrA0qHDT6"
      },
      "source": [
        "## Problem #1 : Data Preprocessing\n",
        "\n",
        "### 조건\n",
        "- \"Label\"컬럼을 사용하여, 악성 IP의 플로우는 1, 정상 IP의 플로우는 0으로 구성된 라벨 리스트 생성   \n",
        "=> `train_y`, `valid_y`(변수명 유지)\n",
        "- 예외처리 컬럼 \"Src IP\", \"Dst IP\", \"Protocol\", \"Timestamp\", \"Flags\", \"Label\"을 제외,   \n",
        "8개 컬럼을 제외한 48컬럼을 사용하여 데이터셋 생성   \n",
        "- 4개의 `list` 모두 csv 파일의 플로우 순서 유지\n",
        "- hint : 결과 파일을 분석하여 코드를 구상한다.\n",
        "\n",
        "### 관련 정보\n",
        "- [pandas](https://pandas.pydata.org/docs/) library, [csv](https://docs.python.org/ko/3/library/csv.html) module\n",
        "- 플로우 피처 정보(주어진 ppt 특정 부분으로 명시)\n",
        "\n",
        "### I/O\n",
        "- input :\n",
        "    > - `train.csv`\n",
        "    > - `valid.csv`\n",
        "- output :   \n",
        "    > - `train_y` -> `list`\n",
        "    > - `valid_y` -> `list`\n",
        "    > - `train_list` -> `list`\n",
        "    > - `valid_list` -> `list`"
      ]
    },
    {
      "cell_type": "code",
      "execution_count": null,
      "metadata": {
        "id": "JOg9UcqgHDT6"
      },
      "outputs": [],
      "source": [
        "#train_y 만들기\n",
        "train_df.Label.unique()\n",
        "train_df.Label.unique().tolist()\n",
        "train_df.Label.unique().tolist().index('Benign_IP') \n",
        "temp_list = train_df.Label.unique().tolist()\n",
        "train_df.Label.map(lambda x: temp_list.index(x)) \n",
        "train_df.insert(54, 'train_y', train_df.Label.map(lambda x: temp_list.index(x)))\n",
        "train_y = train_df.train_y.to_list() #train_df의 train_y 만 list로 \n",
        "# valid_y 만들기\n",
        "valid_df.Label.unique()\n",
        "valid_df.Label.unique().tolist()\n",
        "valid_df.Label.unique().tolist().index('Benign_IP')\n",
        "temp_list2 = valid_df.Label.unique().tolist()\n",
        "valid_df.Label.map(lambda x: temp_list2.index(x))\n",
        "valid_df.insert(54, 'valid_y', valid_df.Label.map(lambda x: temp_list2.index(x)))\n",
        "valid_y = valid_df.valid_y.to_list() #valid_df의 valid_y 만 list로 \n",
        "train_dff = train_df.drop(['Src IP', 'Dst IP', 'Protocol', 'Timestamp', 'Flags', 'Label', 'train_y'], axis = 1) # 컬럼삭제\n",
        "train_list = train_dff.values.tolist() \n",
        "valid_dff = valid_df.drop(['Src IP', 'Dst IP', 'Protocol', 'Timestamp', 'Flags', 'Label', 'valid_y'], axis = 1)\n",
        "valid_list = valid_dff.values.tolist()  "
      ]
    },
    {
      "cell_type": "code",
      "execution_count": null,
      "metadata": {
        "id": "IlcKPugZHDT7",
        "colab": {
          "base_uri": "https://localhost:8080/"
        },
        "outputId": "6b00a5d6-0117-43a6-a588-f305b05a117e"
      },
      "outputs": [
        {
          "output_type": "stream",
          "name": "stdout",
          "text": [
            "Problem #1 Solved\n"
          ]
        }
      ],
      "source": [
        "# Problem 2~를 실행 후에는 Solved가 print되지 않을 수 있음(같은 변수명 공유)\n",
        "if \"answer_train_list\" not in locals():\n",
        "    answer_train_list = open_pickle(\"./problem1_answer/answer_train_list.pkl\")\n",
        "if \"answer_valid_list\" not in locals():\n",
        "    answer_valid_list = open_pickle(\"./problem1_answer/answer_valid_list.pkl\")\n",
        "if \"answer_train_y\" not in locals():\n",
        "    answer_train_y = open_pickle(\"./problem1_answer/answer_train_y.pkl\")\n",
        "if \"answer_valid_y\" not in locals():\n",
        "    answer_valid_y = open_pickle(\"./problem1_answer/answer_valid_y.pkl\")\n",
        "\n",
        "if  answer_train_list == train_list and\\\n",
        "    answer_valid_list == valid_list and\\\n",
        "    answer_train_y == train_y and\\\n",
        "    answer_valid_y == valid_y :\n",
        "    print(\"Problem #1 Solved\")"
      ]
    },
    {
      "cell_type": "markdown",
      "metadata": {
        "id": "If3vF_QrHDT8"
      },
      "source": [
        "## Problem #2 : Data Scaling\n",
        "\n",
        "### 조건\n",
        "- sklearn의 [MinMaxScaler](https://scikit-learn.org/stable/modules/generated/sklearn.preprocessing.MinMaxScaler.html)사용\n",
        "- scaler는 학습 데이터로만 완성해야한다.\n",
        "\n",
        "### 관련 정보\n",
        "[numpy](https://numpy.org/devdocs/) 패키지\n",
        "\n",
        "## I/O\n",
        "- input :\n",
        "    > - `train_list`\n",
        "    > - `valid_list`\n",
        "- output :   \n",
        "    > - `train_X` -> `ndarray(float64)`\n",
        "    > - `valid_X` -> `ndarray(float64)`"
      ]
    },
    {
      "cell_type": "code",
      "execution_count": null,
      "metadata": {
        "id": "cFrUFz2hHDT8"
      },
      "outputs": [],
      "source": [
        "from sklearn.preprocessing import MinMaxScaler\n",
        "#TODO2"
      ]
    },
    {
      "cell_type": "code",
      "source": [],
      "metadata": {
        "id": "4YY4NiT8Ti64"
      },
      "execution_count": null,
      "outputs": []
    },
    {
      "cell_type": "code",
      "execution_count": null,
      "metadata": {
        "id": "HNjQ8EuKHDT9",
        "colab": {
          "base_uri": "https://localhost:8080/"
        },
        "outputId": "baee7e5d-a3c9-40e7-e61b-a7af4414bd31"
      },
      "outputs": [
        {
          "output_type": "stream",
          "name": "stdout",
          "text": [
            "Problem #2 Solved\n"
          ]
        }
      ],
      "source": [
        "if \"answer_train_X\" not in locals():\n",
        "    answer_train_X = open_pickle(\"./problem2_answer/answer_train_X.pkl\")\n",
        "if \"answer_valid_X\" not in locals():\n",
        "    answer_valid_X = open_pickle(\"./problem2_answer/answer_valid_X.pkl\")\n",
        "\n",
        "if  np.array_equal(answer_train_X, train_X) and\\\n",
        "    np.array_equal(answer_valid_X, valid_X):\n",
        "    print(\"Problem #2 Solved\")"
      ]
    },
    {
      "cell_type": "code",
      "execution_count": null,
      "metadata": {
        "id": "I1XCpEiJHDT9"
      },
      "outputs": [],
      "source": [
        "#학습을 위한 데이터 타입 변환\n",
        "from BCE_model import train, test\n",
        "\n",
        "train_X = train_X.astype(np.float32)\n",
        "valid_X = valid_X.astype(np.float32)\n",
        "train_y = np.array(train_y, dtype=np.float32)\n",
        "valid_y = np.array(valid_y, dtype=np.float32)"
      ]
    },
    {
      "cell_type": "code",
      "execution_count": null,
      "metadata": {
        "id": "v56qtpZOHDT-",
        "colab": {
          "base_uri": "https://localhost:8080/",
          "height": 49,
          "referenced_widgets": [
            "d3577edb8bf84d4987bee336484abd20",
            "39451202d84a41858186630ce9733177",
            "dacf6b50d5be407d92d95a53c2765cfb",
            "b22f0d87a31048af8880e76ced61aa6f",
            "d0aa2158a08f433c85c3748c6a9e28b0",
            "b4f530cf5b9747449d5772d5765fe302",
            "8da2df3401464216922c656d0865e15f",
            "a040644a9af94acbbb1088938fc3b8e4",
            "9acd9723a20b434081859bb05ac1772b",
            "dec1fac13bdf4147b50b455b96bf6de7",
            "c3fe6562ff2f4927b29750c7e1956037"
          ]
        },
        "outputId": "a3c24b23-ec9a-494b-a51c-d5c612d5e94b"
      },
      "outputs": [
        {
          "output_type": "display_data",
          "data": {
            "text/plain": [
              "  0%|          | 0/32 [00:00<?, ?it/s]"
            ],
            "application/vnd.jupyter.widget-view+json": {
              "version_major": 2,
              "version_minor": 0,
              "model_id": "d3577edb8bf84d4987bee336484abd20"
            }
          },
          "metadata": {}
        }
      ],
      "source": [
        "# train 데이터 학습 및 valid 데이터 예측\n",
        "model = train(train_X, train_y)\n",
        "predict = test(valid_X, valid_y, model)"
      ]
    },
    {
      "cell_type": "code",
      "execution_count": null,
      "metadata": {
        "id": "u3HCwN6uHDT-"
      },
      "outputs": [],
      "source": [
        "predict = np.array(predict, dtype=\"float32\")"
      ]
    },
    {
      "cell_type": "code",
      "execution_count": null,
      "metadata": {
        "id": "PjiXkXAGHDT_"
      },
      "outputs": [],
      "source": [
        "# 성능 평가를 위해 예측 값을 반올림\n",
        "round_valid_y = valid_y.astype(\"int\")\n",
        "round_predict = np.round(predict)"
      ]
    },
    {
      "cell_type": "markdown",
      "metadata": {
        "id": "eyrouPLPHDT_"
      },
      "source": [
        "성능 평가 지표 관련 자료 : https://www.dataschool.io/simple-guide-to-confusion-matrix-terminology/   \n",
        "*주의사항 : 이후 진행할 Problem #3의 채점을 위해 학습 결과가 보기 예시와 동일하게 나오는지 확인"
      ]
    },
    {
      "cell_type": "code",
      "execution_count": null,
      "metadata": {
        "id": "d-UEpjf0lmad",
        "colab": {
          "base_uri": "https://localhost:8080/"
        },
        "outputId": "5f5377b2-63f1-46e4-f2c3-3c04ee495336"
      },
      "outputs": [
        {
          "output_type": "stream",
          "name": "stdout",
          "text": [
            "confusion_matrix\n",
            " [[186414   3859]\n",
            " [  1797 133490]]\n",
            "accuracy\t:  0.98263\n",
            "precision\t:  0.97190\n",
            "recall\t\t:  0.98672\n",
            "F-1\t\t:  0.97925\n"
          ]
        }
      ],
      "source": [
        "# 플로우 기준 이상 탐지 성능 평가\n",
        "from sklearn.metrics import accuracy_score, precision_score, recall_score, f1_score, confusion_matrix\n",
        "\n",
        "print(\"confusion_matrix\\n\", confusion_matrix(round_valid_y, round_predict))\n",
        "print(f\"accuracy\\t: {accuracy_score(round_valid_y, round_predict): .5f}\")\n",
        "print(f\"precision\\t: {precision_score(round_valid_y, round_predict): .5f}\")\n",
        "print(f\"recall\\t\\t: {recall_score(round_valid_y, round_predict): .5f}\")\n",
        "print(f\"F-1\\t\\t: {f1_score(round_valid_y, round_predict): .5f}\")"
      ]
    },
    {
      "cell_type": "code",
      "execution_count": null,
      "metadata": {
        "id": "IgtobE2nHDT_"
      },
      "outputs": [],
      "source": [
        "# 정상 외부 IP set\n",
        "outer_benignIP_set = open_pickle(\"./outer_benign_IP.pkl\")\n",
        "# 악성 외부 IP set\n",
        "outer_malIP_set = open_pickle(\"./outer_mal_IP.pkl\")"
      ]
    },
    {
      "cell_type": "code",
      "execution_count": null,
      "metadata": {
        "id": "bE6629FQHDUA",
        "colab": {
          "base_uri": "https://localhost:8080/"
        },
        "outputId": "92696a66-9e60-45b1-9d11-3d406c894f44"
      },
      "outputs": [
        {
          "output_type": "execute_result",
          "data": {
            "text/plain": [
              "(590, 457)"
            ]
          },
          "metadata": {},
          "execution_count": 19
        }
      ],
      "source": [
        "#외부 IP의 악성, 정상 개수 확인\n",
        "len(outer_benignIP_set), len(outer_malIP_set)"
      ]
    },
    {
      "cell_type": "code",
      "execution_count": null,
      "metadata": {
        "id": "FVlf70mIHDUA"
      },
      "outputs": [],
      "source": [
        "# Problem #3을 위해 dictionary형태로 변경\n",
        "labelIP_dict = dict()\n",
        "\n",
        "for ip in outer_benignIP_set:\n",
        "    labelIP_dict[ip] = 0\n",
        "for ip in outer_malIP_set:\n",
        "    labelIP_dict[ip] = 1"
      ]
    },
    {
      "cell_type": "markdown",
      "metadata": {
        "id": "mkv5BFhNHDUA"
      },
      "source": [
        "## Problem #3 : IP Voting\n",
        "### 조건\n",
        "- 모든 flow는 내부IP <-> 외부IP 통신으로 이루어져있다.\n",
        "- 외부IP는 악성IP, 정상IP로 나뉜다.\n",
        "- 각 외부 IP별로 1개 이상의 플로우를 가진다.\n",
        "- valid.csv의 각 외부IP별로 플로우를 분류한다.\n",
        "- 각 외부 IP에서 속한 플로우가 1개라도 `theta`이상의 predict값을 가진다면 악성 외부 IP로 예측한다.\n",
        "- 외부IP를 key, 예측 값을 value로 가지는 dictionary를 반환한다.(`answerIP_dict`과 같은 형태)\n",
        "- 예측 라벨은 악성 외부 IP를 `1`, 정상 외부 IP를 `0`으로 한다. \n",
        "- 주어진 모든 `theta`에 대해 작동할 수 있도록 한다. (*채점시 다른 `theta`적용 후 결과 비교 예정)\n",
        "- hint : csv파일의 순서와 predict의 순서는 일치한다.\n",
        "\n",
        "### I/O\n",
        "- input :\n",
        "    > - `valid.csv`\n",
        "    > - `predict`\n",
        "    > - `answerIP_dict`\n",
        "    > - `theta`\n",
        "- output :   \n",
        "    > - `predictIP_dict` -> `dict`"
      ]
    },
    {
      "cell_type": "code",
      "execution_count": null,
      "metadata": {
        "id": "H5iSIbvRHDUA"
      },
      "outputs": [],
      "source": [
        "theta = 0.1 # example\n",
        "\n",
        "#TODO3"
      ]
    },
    {
      "cell_type": "code",
      "execution_count": null,
      "metadata": {
        "id": "p1XAPcQWHDUB",
        "colab": {
          "base_uri": "https://localhost:8080/"
        },
        "outputId": "decb2e80-e952-4bca-d859-048a7a526859"
      },
      "outputs": [
        {
          "output_type": "stream",
          "name": "stdout",
          "text": [
            "Problem #3 Solved\n"
          ]
        }
      ],
      "source": [
        "if \"answer_predictIP_dict\" not in locals():\n",
        "    answer_predictIP_dict = open_pickle(\"./problem3_answer/answer_predictIP_dict.pkl\")\n",
        "\n",
        "if  predictIP_dict == answer_predictIP_dict:\n",
        "    print(\"Problem #3 Solved\")"
      ]
    },
    {
      "cell_type": "code",
      "source": [
        "import pickle\n",
        "\n",
        "with open(\"./answer_predictIP_dict_new.pkl\", 'wb') as f:\n",
        "    pickle.dump(predictIP_dict, f)"
      ],
      "metadata": {
        "id": "pRK6JxL1AQMw"
      },
      "execution_count": null,
      "outputs": []
    },
    {
      "cell_type": "code",
      "execution_count": null,
      "metadata": {
        "id": "ss6PiboDHDUB",
        "colab": {
          "base_uri": "https://localhost:8080/"
        },
        "outputId": "2fdc964e-eab3-4ca6-8a7b-e040da93fe7d"
      },
      "outputs": [
        {
          "output_type": "stream",
          "name": "stdout",
          "text": [
            "confusion_matrix\n",
            " [[380 210]\n",
            " [  5 452]]\n",
            "accuracy\t:  0.79465\n",
            "precision\t:  0.68278\n",
            "recall\t\t:  0.98906\n",
            "F-1\t\t:  0.80786\n"
          ]
        }
      ],
      "source": [
        "# 정답 IP dictionary와 예측 IP dictionary를 비교하여 성능 평가\n",
        "pred_IP = []\n",
        "label_IP = []\n",
        "\n",
        "for k in predictIP_dict.keys():\n",
        "    pred_IP.append(predictIP_dict[k])\n",
        "    label_IP.append(labelIP_dict[k])\n",
        "\n",
        "print(\"confusion_matrix\\n\", confusion_matrix(label_IP, pred_IP))\n",
        "print(f\"accuracy\\t: {accuracy_score(label_IP, pred_IP): .5f}\")\n",
        "print(f\"precision\\t: {precision_score(label_IP, pred_IP): .5f}\")\n",
        "print(f\"recall\\t\\t: {recall_score(label_IP, pred_IP): .5f}\")\n",
        "print(f\"F-1\\t\\t: {f1_score(label_IP, pred_IP): .5f}\")"
      ]
    }
  ],
  "metadata": {
    "accelerator": "GPU",
    "colab": {
      "collapsed_sections": [],
      "provenance": [],
      "include_colab_link": true
    },
    "kernelspec": {
      "display_name": "Python 3 (ipykernel)",
      "language": "python",
      "name": "python3"
    },
    "language_info": {
      "codemirror_mode": {
        "name": "ipython",
        "version": 3
      },
      "file_extension": ".py",
      "mimetype": "text/x-python",
      "name": "python",
      "nbconvert_exporter": "python",
      "pygments_lexer": "ipython3",
      "version": "3.9.7"
    },
    "vscode": {
      "interpreter": {
        "hash": "19d1d53a962d236aa061289c2ac16dc8e6d9648c89fe79f459ae9a3493bc67b4"
      }
    },
    "gpuClass": "standard",
    "widgets": {
      "application/vnd.jupyter.widget-state+json": {
        "d3577edb8bf84d4987bee336484abd20": {
          "model_module": "@jupyter-widgets/controls",
          "model_name": "HBoxModel",
          "model_module_version": "1.5.0",
          "state": {
            "_dom_classes": [],
            "_model_module": "@jupyter-widgets/controls",
            "_model_module_version": "1.5.0",
            "_model_name": "HBoxModel",
            "_view_count": null,
            "_view_module": "@jupyter-widgets/controls",
            "_view_module_version": "1.5.0",
            "_view_name": "HBoxView",
            "box_style": "",
            "children": [
              "IPY_MODEL_39451202d84a41858186630ce9733177",
              "IPY_MODEL_dacf6b50d5be407d92d95a53c2765cfb",
              "IPY_MODEL_b22f0d87a31048af8880e76ced61aa6f"
            ],
            "layout": "IPY_MODEL_d0aa2158a08f433c85c3748c6a9e28b0"
          }
        },
        "39451202d84a41858186630ce9733177": {
          "model_module": "@jupyter-widgets/controls",
          "model_name": "HTMLModel",
          "model_module_version": "1.5.0",
          "state": {
            "_dom_classes": [],
            "_model_module": "@jupyter-widgets/controls",
            "_model_module_version": "1.5.0",
            "_model_name": "HTMLModel",
            "_view_count": null,
            "_view_module": "@jupyter-widgets/controls",
            "_view_module_version": "1.5.0",
            "_view_name": "HTMLView",
            "description": "",
            "description_tooltip": null,
            "layout": "IPY_MODEL_b4f530cf5b9747449d5772d5765fe302",
            "placeholder": "​",
            "style": "IPY_MODEL_8da2df3401464216922c656d0865e15f",
            "value": "100%"
          }
        },
        "dacf6b50d5be407d92d95a53c2765cfb": {
          "model_module": "@jupyter-widgets/controls",
          "model_name": "FloatProgressModel",
          "model_module_version": "1.5.0",
          "state": {
            "_dom_classes": [],
            "_model_module": "@jupyter-widgets/controls",
            "_model_module_version": "1.5.0",
            "_model_name": "FloatProgressModel",
            "_view_count": null,
            "_view_module": "@jupyter-widgets/controls",
            "_view_module_version": "1.5.0",
            "_view_name": "ProgressView",
            "bar_style": "success",
            "description": "",
            "description_tooltip": null,
            "layout": "IPY_MODEL_a040644a9af94acbbb1088938fc3b8e4",
            "max": 32,
            "min": 0,
            "orientation": "horizontal",
            "style": "IPY_MODEL_9acd9723a20b434081859bb05ac1772b",
            "value": 32
          }
        },
        "b22f0d87a31048af8880e76ced61aa6f": {
          "model_module": "@jupyter-widgets/controls",
          "model_name": "HTMLModel",
          "model_module_version": "1.5.0",
          "state": {
            "_dom_classes": [],
            "_model_module": "@jupyter-widgets/controls",
            "_model_module_version": "1.5.0",
            "_model_name": "HTMLModel",
            "_view_count": null,
            "_view_module": "@jupyter-widgets/controls",
            "_view_module_version": "1.5.0",
            "_view_name": "HTMLView",
            "description": "",
            "description_tooltip": null,
            "layout": "IPY_MODEL_dec1fac13bdf4147b50b455b96bf6de7",
            "placeholder": "​",
            "style": "IPY_MODEL_c3fe6562ff2f4927b29750c7e1956037",
            "value": " 32/32 [08:38&lt;00:00, 15.87s/it, epoch=32, loss=9.807953284428692e-05]"
          }
        },
        "d0aa2158a08f433c85c3748c6a9e28b0": {
          "model_module": "@jupyter-widgets/base",
          "model_name": "LayoutModel",
          "model_module_version": "1.2.0",
          "state": {
            "_model_module": "@jupyter-widgets/base",
            "_model_module_version": "1.2.0",
            "_model_name": "LayoutModel",
            "_view_count": null,
            "_view_module": "@jupyter-widgets/base",
            "_view_module_version": "1.2.0",
            "_view_name": "LayoutView",
            "align_content": null,
            "align_items": null,
            "align_self": null,
            "border": null,
            "bottom": null,
            "display": null,
            "flex": null,
            "flex_flow": null,
            "grid_area": null,
            "grid_auto_columns": null,
            "grid_auto_flow": null,
            "grid_auto_rows": null,
            "grid_column": null,
            "grid_gap": null,
            "grid_row": null,
            "grid_template_areas": null,
            "grid_template_columns": null,
            "grid_template_rows": null,
            "height": null,
            "justify_content": null,
            "justify_items": null,
            "left": null,
            "margin": null,
            "max_height": null,
            "max_width": null,
            "min_height": null,
            "min_width": null,
            "object_fit": null,
            "object_position": null,
            "order": null,
            "overflow": null,
            "overflow_x": null,
            "overflow_y": null,
            "padding": null,
            "right": null,
            "top": null,
            "visibility": null,
            "width": null
          }
        },
        "b4f530cf5b9747449d5772d5765fe302": {
          "model_module": "@jupyter-widgets/base",
          "model_name": "LayoutModel",
          "model_module_version": "1.2.0",
          "state": {
            "_model_module": "@jupyter-widgets/base",
            "_model_module_version": "1.2.0",
            "_model_name": "LayoutModel",
            "_view_count": null,
            "_view_module": "@jupyter-widgets/base",
            "_view_module_version": "1.2.0",
            "_view_name": "LayoutView",
            "align_content": null,
            "align_items": null,
            "align_self": null,
            "border": null,
            "bottom": null,
            "display": null,
            "flex": null,
            "flex_flow": null,
            "grid_area": null,
            "grid_auto_columns": null,
            "grid_auto_flow": null,
            "grid_auto_rows": null,
            "grid_column": null,
            "grid_gap": null,
            "grid_row": null,
            "grid_template_areas": null,
            "grid_template_columns": null,
            "grid_template_rows": null,
            "height": null,
            "justify_content": null,
            "justify_items": null,
            "left": null,
            "margin": null,
            "max_height": null,
            "max_width": null,
            "min_height": null,
            "min_width": null,
            "object_fit": null,
            "object_position": null,
            "order": null,
            "overflow": null,
            "overflow_x": null,
            "overflow_y": null,
            "padding": null,
            "right": null,
            "top": null,
            "visibility": null,
            "width": null
          }
        },
        "8da2df3401464216922c656d0865e15f": {
          "model_module": "@jupyter-widgets/controls",
          "model_name": "DescriptionStyleModel",
          "model_module_version": "1.5.0",
          "state": {
            "_model_module": "@jupyter-widgets/controls",
            "_model_module_version": "1.5.0",
            "_model_name": "DescriptionStyleModel",
            "_view_count": null,
            "_view_module": "@jupyter-widgets/base",
            "_view_module_version": "1.2.0",
            "_view_name": "StyleView",
            "description_width": ""
          }
        },
        "a040644a9af94acbbb1088938fc3b8e4": {
          "model_module": "@jupyter-widgets/base",
          "model_name": "LayoutModel",
          "model_module_version": "1.2.0",
          "state": {
            "_model_module": "@jupyter-widgets/base",
            "_model_module_version": "1.2.0",
            "_model_name": "LayoutModel",
            "_view_count": null,
            "_view_module": "@jupyter-widgets/base",
            "_view_module_version": "1.2.0",
            "_view_name": "LayoutView",
            "align_content": null,
            "align_items": null,
            "align_self": null,
            "border": null,
            "bottom": null,
            "display": null,
            "flex": null,
            "flex_flow": null,
            "grid_area": null,
            "grid_auto_columns": null,
            "grid_auto_flow": null,
            "grid_auto_rows": null,
            "grid_column": null,
            "grid_gap": null,
            "grid_row": null,
            "grid_template_areas": null,
            "grid_template_columns": null,
            "grid_template_rows": null,
            "height": null,
            "justify_content": null,
            "justify_items": null,
            "left": null,
            "margin": null,
            "max_height": null,
            "max_width": null,
            "min_height": null,
            "min_width": null,
            "object_fit": null,
            "object_position": null,
            "order": null,
            "overflow": null,
            "overflow_x": null,
            "overflow_y": null,
            "padding": null,
            "right": null,
            "top": null,
            "visibility": null,
            "width": null
          }
        },
        "9acd9723a20b434081859bb05ac1772b": {
          "model_module": "@jupyter-widgets/controls",
          "model_name": "ProgressStyleModel",
          "model_module_version": "1.5.0",
          "state": {
            "_model_module": "@jupyter-widgets/controls",
            "_model_module_version": "1.5.0",
            "_model_name": "ProgressStyleModel",
            "_view_count": null,
            "_view_module": "@jupyter-widgets/base",
            "_view_module_version": "1.2.0",
            "_view_name": "StyleView",
            "bar_color": null,
            "description_width": ""
          }
        },
        "dec1fac13bdf4147b50b455b96bf6de7": {
          "model_module": "@jupyter-widgets/base",
          "model_name": "LayoutModel",
          "model_module_version": "1.2.0",
          "state": {
            "_model_module": "@jupyter-widgets/base",
            "_model_module_version": "1.2.0",
            "_model_name": "LayoutModel",
            "_view_count": null,
            "_view_module": "@jupyter-widgets/base",
            "_view_module_version": "1.2.0",
            "_view_name": "LayoutView",
            "align_content": null,
            "align_items": null,
            "align_self": null,
            "border": null,
            "bottom": null,
            "display": null,
            "flex": null,
            "flex_flow": null,
            "grid_area": null,
            "grid_auto_columns": null,
            "grid_auto_flow": null,
            "grid_auto_rows": null,
            "grid_column": null,
            "grid_gap": null,
            "grid_row": null,
            "grid_template_areas": null,
            "grid_template_columns": null,
            "grid_template_rows": null,
            "height": null,
            "justify_content": null,
            "justify_items": null,
            "left": null,
            "margin": null,
            "max_height": null,
            "max_width": null,
            "min_height": null,
            "min_width": null,
            "object_fit": null,
            "object_position": null,
            "order": null,
            "overflow": null,
            "overflow_x": null,
            "overflow_y": null,
            "padding": null,
            "right": null,
            "top": null,
            "visibility": null,
            "width": null
          }
        },
        "c3fe6562ff2f4927b29750c7e1956037": {
          "model_module": "@jupyter-widgets/controls",
          "model_name": "DescriptionStyleModel",
          "model_module_version": "1.5.0",
          "state": {
            "_model_module": "@jupyter-widgets/controls",
            "_model_module_version": "1.5.0",
            "_model_name": "DescriptionStyleModel",
            "_view_count": null,
            "_view_module": "@jupyter-widgets/base",
            "_view_module_version": "1.2.0",
            "_view_name": "StyleView",
            "description_width": ""
          }
        }
      }
    }
  },
  "nbformat": 4,
  "nbformat_minor": 0
}